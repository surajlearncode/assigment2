{
 "cells": [
  {
   "cell_type": "code",
   "execution_count": 3,
   "id": "a18e9b4e-47a9-45d0-ae0e-03dcaf79d2f0",
   "metadata": {},
   "outputs": [],
   "source": [
    "ANS1:\n",
    "def keyword is used to create a function.\n",
    "def test() : \n",
    "    l = []\n",
    "    for num in range(1,25):    \n",
    "        if num % 2 != 0:\n",
    "            l.append(num)\n",
    "    return l"
   ]
  },
  {
   "cell_type": "code",
   "execution_count": 4,
   "id": "810ea639-520a-4e50-b5dd-35e0b8a2a3ee",
   "metadata": {},
   "outputs": [
    {
     "data": {
      "text/plain": [
       "[1, 3, 5, 7, 9, 11, 13, 15, 17, 19, 21, 23]"
      ]
     },
     "execution_count": 4,
     "metadata": {},
     "output_type": "execute_result"
    }
   ],
   "source": [
    "test()"
   ]
  },
  {
   "cell_type": "code",
   "execution_count": 3,
   "id": "b5bf21fc-62c3-4a45-85f4-6548e9a8d404",
   "metadata": {},
   "outputs": [],
   "source": [
    "ANS2:\n",
    "args and kwargs are used in some functions because when ever you are making scalable programs we dont want to create values\n",
    "while making objects we use those times.\n",
    "eg: this is example of args \n",
    "def funargs(*args) :\n",
    "        print (names)"
   ]
  },
  {
   "cell_type": "code",
   "execution_count": 4,
   "id": "88b1cd05-dab7-41e5-b3a3-866936d20e4f",
   "metadata": {},
   "outputs": [
    {
     "name": "stdout",
     "output_type": "stream",
     "text": [
      "['suraj', 'amit', 'chatu']\n"
     ]
    }
   ],
   "source": [
    "names = [\"suraj\",\"amit\",\"chatu\"]\n",
    "funargs(*names)\n"
   ]
  },
  {
   "cell_type": "code",
   "execution_count": 13,
   "id": "cd244c3f-ff8e-410f-8d2f-ff90da4dfdb1",
   "metadata": {},
   "outputs": [],
   "source": [
    "here you can see that you can add more values in names without having any problem."
   ]
  },
  {
   "cell_type": "code",
   "execution_count": 1,
   "id": "466add48-f6c7-4da2-981d-79aa15490f82",
   "metadata": {},
   "outputs": [],
   "source": [
    "eg: this is example of kwargs\n",
    "def funkwargs(*kwargs):\n",
    "    \n",
    "        print(items)"
   ]
  },
  {
   "cell_type": "code",
   "execution_count": 2,
   "id": "320fa343-9fcb-425d-8934-ea9c71f34caf",
   "metadata": {},
   "outputs": [
    {
     "name": "stdout",
     "output_type": "stream",
     "text": [
      "['mango', 'cauliflower', 'dog']\n"
     ]
    }
   ],
   "source": [
    "items = [ \"mango\" ,\"cauliflower\", \"dog\"]\n",
    "funkwargs(*items)\n",
    "#similarly you can add more values here."
   ]
  },
  {
   "cell_type": "code",
   "execution_count": 2,
   "id": "7870eaee-785b-4f56-a1db-336c428ac0a0",
   "metadata": {},
   "outputs": [
    {
     "name": "stdout",
     "output_type": "stream",
     "text": [
      "2\n",
      "4\n",
      "6\n",
      "8\n",
      "10\n"
     ]
    }
   ],
   "source": [
    "ANS 3 :\n",
    ".Iterator is a object used for counting values one by one when you pass it.\n",
    ".method used to initialize the iterator object is __iter__() and __next__() .\n",
    ".method used for iterator is __iter() and __next__() .\n",
    "program :-\n",
    "nums = [2,4,6,8,10,12,14,16,18,20]\n",
    "it = iter(nums)\n",
    "\n",
    "print(it.__next__())\n",
    "print(it.__next__())\n",
    "print(it.__next__())\n",
    "print(next(it))\n",
    "print(next(it))"
   ]
  },
  {
   "cell_type": "code",
   "execution_count": 11,
   "id": "15d00c66-b947-4ee1-b556-83e6e93619dd",
   "metadata": {},
   "outputs": [
    {
     "name": "stdout",
     "output_type": "stream",
     "text": [
      "1\n",
      "2\n",
      "3\n",
      "4\n",
      "5\n"
     ]
    }
   ],
   "source": [
    "ANS 4:\n",
    ".The generators are a type of iterator that can be traverse only once . Also you can get values without using next() and iter() .\n",
    ".yield is used to generate on the fly values that means that it will iterator and then generate and it will go on.\n",
    "eg :-\n",
    "def topfive() :\n",
    "    yield 1\n",
    "    yield 2\n",
    "    yield 3\n",
    "    yield 4\n",
    "    yield 5\n",
    "values = topfive()\n",
    "print(values.__next__())\n",
    "print(values.__next__())\n",
    "print(values.__next__())\n",
    "print(values.__next__())\n",
    "print(values.__next__())"
   ]
  },
  {
   "cell_type": "code",
   "execution_count": 13,
   "id": "018166d4-e65f-48a8-8b07-04bf9789918c",
   "metadata": {},
   "outputs": [
    {
     "name": "stdout",
     "output_type": "stream",
     "text": [
      "2 3 5 7 11 13 17 19 "
     ]
    }
   ],
   "source": [
    "#ANS 5:\n",
    "def isprime(num):\n",
    "    for i in range(2,num):\n",
    "        if(num%i == 0):\n",
    "            return False\n",
    "    return True  \n",
    "\n",
    "def primegen(n):\n",
    "    num = 2\n",
    "    while n:\n",
    "        if isprime(num):\n",
    "            yield num\n",
    "            n-=1\n",
    "        num+=1\n",
    "    return True\n",
    "\n",
    "it = primegen(20)\n",
    "for e in it:\n",
    "    primegen(e, end = \" \")\n",
    "    \n",
    "n = 20            \n",
    "printPrime(n) \n"
   ]
  },
  {
   "cell_type": "code",
   "execution_count": null,
   "id": "f6148ec6-51be-4a71-a084-a31cdfe0a2d8",
   "metadata": {},
   "outputs": [
    {
     "name": "stdin",
     "output_type": "stream",
     "text": [
      "enter your number of element you are looking for 10\n"
     ]
    },
    {
     "name": "stdout",
     "output_type": "stream",
     "text": [
      "0\n",
      "1\n",
      "1\n",
      "2\n",
      "3\n",
      "5\n",
      "8\n",
      "13\n",
      "21\n",
      "34\n"
     ]
    }
   ],
   "source": [
    "ANS 6:\n",
    "number = int(input(\"enter your number of element you are looking for\"))\n",
    "a,b = 0,1\n",
    "counter =0\n",
    "while counter < number :\n",
    "    print(a)\n",
    "    c = a+b\n",
    "    a = b\n",
    "    b = c\n",
    "    counter = counter + 1"
   ]
  },
  {
   "cell_type": "code",
   "execution_count": 41,
   "id": "5bd9cb64-bbdb-40ef-935c-4373a90add23",
   "metadata": {},
   "outputs": [
    {
     "name": "stdout",
     "output_type": "stream",
     "text": [
      "['p', 'w', 's', 'k', 'i', 'l', 'l', 's']\n"
     ]
    }
   ],
   "source": [
    "ANS 7:\n",
    "List = []\n",
    " \n",
    "for character in 'pwskills':\n",
    "    List.append(character)\n",
    " \n",
    "print(List)"
   ]
  },
  {
   "cell_type": "code",
   "execution_count": 3,
   "id": "653ae61c-2ceb-4054-8868-2f136880de6a",
   "metadata": {},
   "outputs": [
    {
     "name": "stdin",
     "output_type": "stream",
     "text": [
      "Enter a value: 103\n"
     ]
    },
    {
     "name": "stdout",
     "output_type": "stream",
     "text": [
      "This value is not a palindrome number!\n"
     ]
    }
   ],
   "source": [
    "ANS 8:\n",
    "num = int(input(\"Enter a value:\"))  \n",
    "temp = num  \n",
    "rev = 0  \n",
    "while(num > 0):  \n",
    "    dig = num % 10  \n",
    "    rev = rev * 10 + dig  \n",
    "    num = num // 10  \n",
    "if(temp == rev):  \n",
    "    print(\"This value is a palindrome number!\")  \n",
    "else:  \n",
    "    print(\"This value is not a palindrome number!\")  "
   ]
  },
  {
   "cell_type": "code",
   "execution_count": 11,
   "id": "7e984d19-8018-4f58-b773-b0cf879e9c0b",
   "metadata": {},
   "outputs": [
    {
     "name": "stdout",
     "output_type": "stream",
     "text": [
      "these are the odd numbers\n",
      "[1, 3, 5, 7, 9, 11, 13, 15, 17, 19, 21, 23, 25, 27, 29, 31, 33, 35, 37, 39, 41, 43, 45, 47, 49, 51, 53, 55, 57, 59, 61, 63, 65, 67, 69, 71, 73, 75, 77, 79, 81, 83, 85, 87, 89, 91, 93, 95, 97, 99]\n"
     ]
    }
   ],
   "source": [
    "ANS 9:\n",
    "list = []\n",
    "print(\"these are the odd numbers\")\n",
    "for i in range(1,101) :\n",
    "    if(i % 2 == 0):\n",
    "        continue\n",
    "    else :\n",
    "        list.append(i)\n",
    "    \n",
    "print(list)"
   ]
  },
  {
   "cell_type": "code",
   "execution_count": null,
   "id": "014ab7e3-7f60-40ff-bd94-e5254e020efc",
   "metadata": {},
   "outputs": [],
   "source": []
  }
 ],
 "metadata": {
  "kernelspec": {
   "display_name": "Python 3 (ipykernel)",
   "language": "python",
   "name": "python3"
  },
  "language_info": {
   "codemirror_mode": {
    "name": "ipython",
    "version": 3
   },
   "file_extension": ".py",
   "mimetype": "text/x-python",
   "name": "python",
   "nbconvert_exporter": "python",
   "pygments_lexer": "ipython3",
   "version": "3.10.8"
  }
 },
 "nbformat": 4,
 "nbformat_minor": 5
}
